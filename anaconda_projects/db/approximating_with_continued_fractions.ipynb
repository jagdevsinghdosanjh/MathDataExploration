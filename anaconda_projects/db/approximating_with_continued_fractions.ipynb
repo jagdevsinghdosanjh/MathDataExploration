{
 "cells": [
  {
   "cell_type": "code",
   "execution_count": 4,
   "id": "996dc33f",
   "metadata": {},
   "outputs": [
    {
     "name": "stdout",
     "output_type": "stream",
     "text": [
      "√2 approximations: [1, 181/128, 5793/4096, 46341/32768, 741455/524288, 128132/90603]\n",
      "√3 approximations: [2, 887/512, 3547/2048, 14189/8192, 908093/524288, 1166732/673613]\n",
      "√5 approximations: [2, 143/64, 4579/2048, 73271/32768, 146543/65536, 2074532/927759]\n",
      "π approximations: [3, 201/64, 3217/1024, 3217/1024, 411775/131072, 2661975/847333]\n",
      "e approximations: [3, 87/32, 5567/2048, 89073/32768, 712581/262144, 1670974/614717]\n"
     ]
    }
   ],
   "source": [
    "import numpy as np\n",
    "from sympy import Rational, N\n",
    "irrational_values = {\n",
    "    \"√2\": np.sqrt(2),\n",
    "    \"√3\": np.sqrt(3),\n",
    "    \"√5\": np.sqrt(5),\n",
    "    \"π\": np.pi,\n",
    "    \"e\": np.e\n",
    "}\n",
    "\n",
    "def continued_fraction_approx(number, depth=5):\n",
    "    return [Rational(N(number, i)).limit_denominator() for i in range(1, depth + 1)]\n",
    "\n",
    "# Generate approximations for √2, π, and e\n",
    "approximations = {key: continued_fraction_approx(value, depth=6) for key, value in irrational_values.items()}\n",
    "for key, approx in approximations.items():\n",
    "    print(f\"{key} approximations: {approx}\")\n"
   ]
  }
 ],
 "metadata": {
  "kernelspec": {
   "display_name": "base",
   "language": "python",
   "name": "python3"
  },
  "language_info": {
   "codemirror_mode": {
    "name": "ipython",
    "version": 3
   },
   "file_extension": ".py",
   "mimetype": "text/x-python",
   "name": "python",
   "nbconvert_exporter": "python",
   "pygments_lexer": "ipython3",
   "version": "3.12.7"
  }
 },
 "nbformat": 4,
 "nbformat_minor": 5
}
