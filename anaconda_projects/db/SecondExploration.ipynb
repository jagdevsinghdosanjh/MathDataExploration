{
 "cells": [
  {
   "cell_type": "code",
   "execution_count": null,
   "id": "f037bf96",
   "metadata": {},
   "outputs": [],
   "source": [
    "import numpy as np\n",
    "import matplotlib.pyplot as plt\n",
    "\n",
    "irrational_values = {\n",
    "    \"√2\": np.sqrt(2),\n",
    "    \"√3\": np.sqrt(3),\n",
    "    \"π\": np.pi,\n",
    "    \"e\": np.e\n",
    "}\n",
    "\n",
    "plt.figure(figsize=(10, 2))\n",
    "for i, (label, value) in enumerate(irrational_values.items()):\n",
    "    plt.scatter(value, 1, label=f\"{label} ≈ {value:.2f}\", s=100)\n",
    "\n",
    "plt.xlabel(\"Number Line\")\n",
    "plt.ylabel(\"Y-Axis\")\n",
    "plt.yticks([])\n",
    "plt.title(\"Visualizing Key Irrational Numbers\")\n",
    "plt.legend()\n",
    "plt.grid()\n",
    "plt.show()\n"
   ]
  }
 ],
 "metadata": {
  "kernelspec": {
   "display_name": "base",
   "language": "python",
   "name": "python3"
  },
  "language_info": {
   "codemirror_mode": {
    "name": "ipython",
    "version": 3
   },
   "file_extension": ".py",
   "mimetype": "text/x-python",
   "name": "python",
   "nbconvert_exporter": "python",
   "pygments_lexer": "ipython3",
   "version": "3.12.7"
  }
 },
 "nbformat": 4,
 "nbformat_minor": 5
}
