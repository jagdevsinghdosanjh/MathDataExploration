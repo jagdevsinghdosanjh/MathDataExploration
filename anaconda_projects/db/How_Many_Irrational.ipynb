{
 "cells": [
  {
   "cell_type": "code",
   "execution_count": 1,
   "id": "f2a8aecf",
   "metadata": {},
   "outputs": [
    {
     "name": "stdout",
     "output_type": "stream",
     "text": [
      "Total irrational square roots: 90\n",
      "Numbers with irrational square roots: [2, 3, 5, 6, 7, 8, 10, 11, 12, 13, 14, 15, 17, 18, 19, 20, 21, 22, 23, 24, 26, 27, 28, 29, 30, 31, 32, 33, 34, 35, 37, 38, 39, 40, 41, 42, 43, 44, 45, 46, 47, 48, 50, 51, 52, 53, 54, 55, 56, 57, 58, 59, 60, 61, 62, 63, 65, 66, 67, 68, 69, 70, 71, 72, 73, 74, 75, 76, 77, 78, 79, 80, 82, 83, 84, 85, 86, 87, 88, 89, 90, 91, 92, 93, 94, 95, 96, 97, 98, 99]\n"
     ]
    }
   ],
   "source": [
    "import math\n",
    "\n",
    "# Define the range\n",
    "numbers = range(1, 101)\n",
    "\n",
    "# Check for irrational square roots\n",
    "irrational_numbers = [n for n in numbers if math.sqrt(n) % 1 != 0]\n",
    "\n",
    "# Display the results\n",
    "print(f\"Total irrational square roots: {len(irrational_numbers)}\")\n",
    "print(\"Numbers with irrational square roots:\", irrational_numbers)\n"
   ]
  },
  {
   "cell_type": "code",
   "execution_count": 3,
   "id": "6002b6da",
   "metadata": {},
   "outputs": [
    {
     "data": {
      "image/png": "[encoded data removed]",
      "text/plain": [
       "<Figure size 1000x200 with 1 Axes>"
      ]
     },
     "metadata": {},
     "output_type": "display_data"
    }
   ],
   "source": [
    "import numpy as np\n",
    "import matplotlib.pyplot as plt\n",
    "import math\n",
    "\n",
    "# Define range\n",
    "numbers = range(1, 101)\n",
    "\n",
    "# Extract numbers with irrational square roots\n",
    "irrational_numbers = [n for n in numbers if math.sqrt(n) % 1 != 0]\n",
    "irrational_roots = [math.sqrt(n) for n in irrational_numbers]\n",
    "\n",
    "# Create the figure\n",
    "plt.figure(figsize=(10, 2))\n",
    "\n",
    "# Plot irrational square roots on a number line\n",
    "plt.scatter(irrational_roots, np.zeros_like(irrational_roots), color='red', label='Irrational Square Roots')\n",
    "\n",
    "# Draw number line\n",
    "plt.axhline(0, color='black', linewidth=1)\n",
    "\n",
    "# Labels\n",
    "plt.xlabel(\"Square Roots\")\n",
    "plt.title(\"Irrational Square Roots on a Number Line\")\n",
    "plt.yticks([])  # Hide y-axis\n",
    "plt.legend()\n",
    "plt.grid(False)\n",
    "\n",
    "# Show plot\n",
    "plt.grid()\n",
    "plt.show()\n"
   ]
  },
  {
   "cell_type": "code",
   "execution_count": null,
   "id": "ca5f2987",
   "metadata": {},
   "outputs": [],
   "source": [
    "import matplotlib.pyplot as plt\n",
    "import math\n",
    "\n",
    "# Define range\n",
    "numbers = range(1, 101)\n",
    "\n",
    "# Extract numbers with irrational square roots\n",
    "irrational_numbers = [n for n in numbers if math.sqrt(n) % 1 != 0]\n",
    "irrational_roots = [math.sqrt(n) for n in irrational_numbers]\n",
    "\n",
    "# Create figure\n",
    "plt.figure(figsize=(10, 6))\n",
    "\n",
    "# Draw rectangles\n",
    "for i, num in enumerate(irrational_numbers):\n",
    "    plt.gca().add_patch(plt.Rectangle((i, 0), width=num, height=math.sqrt(num), color='red', alpha=0.5))\n",
    "\n",
    "# Labels and formatting\n",
    "plt.xlabel(\"Index of Number\")\n",
    "plt.ylabel(\"Square Root (Height of Rectangle)\")\n",
    "plt.title(\"Geometric Representation of Irrational Square Roots\")\n",
    "plt.xlim(0, len(irrational_numbers))\n",
    "plt.ylim(0, max(irrational_roots) + 1)\n",
    "plt.grid(True)\n",
    "\n",
    "# Show plot\n",
    "plt.show()\n"
   ]
  }
 ],
 "metadata": {
  "kernelspec": {
   "display_name": "base",
   "language": "python",
   "name": "python3"
  },
  "language_info": {
   "codemirror_mode": {
    "name": "ipython",
    "version": 3
   },
   "file_extension": ".py",
   "mimetype": "text/x-python",
   "name": "python",
   "nbconvert_exporter": "python",
   "pygments_lexer": "ipython3",
   "version": "3.12.7"
  }
 },
 "nbformat": 4,
 "nbformat_minor": 5
}
