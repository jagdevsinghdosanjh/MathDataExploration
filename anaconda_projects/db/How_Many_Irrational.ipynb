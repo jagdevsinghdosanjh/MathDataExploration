{
 "cells": [
  {
   "cell_type": "code",
   "execution_count": 8,
   "id": "f2a8aecf",
   "metadata": {},
   "outputs": [
    {
     "name": "stdout",
     "output_type": "stream",
     "text": [
      "Total irrational square roots: 145\n",
      "Numbers with irrational square roots: [101, 102, 103, 104, 105, 106, 107, 108, 109, 110, 111, 112, 113, 114, 115, 116, 117, 118, 119, 120, 122, 123, 124, 125, 126, 127, 128, 129, 130, 131, 132, 133, 134, 135, 136, 137, 138, 139, 140, 141, 142, 143, 145, 146, 147, 148, 149, 150, 151, 152, 153, 154, 155, 156, 157, 158, 159, 160, 161, 162, 163, 164, 165, 166, 167, 168, 170, 171, 172, 173, 174, 175, 176, 177, 178, 179, 180, 181, 182, 183, 184, 185, 186, 187, 188, 189, 190, 191, 192, 193, 194, 195, 197, 198, 199, 200, 201, 202, 203, 204, 205, 206, 207, 208, 209, 210, 211, 212, 213, 214, 215, 216, 217, 218, 219, 220, 221, 222, 223, 224, 226, 227, 228, 229, 230, 231, 232, 233, 234, 235, 236, 237, 238, 239, 240, 241, 242, 243, 244, 245, 246, 247, 248, 249, 250]\n"
     ]
    }
   ],
   "source": [
    "import math\n",
    "\n",
    "# Define the range\n",
    "numbers = range(101, 251)\n",
    "\n",
    "# Check for irrational square roots\n",
    "irrational_numbers = [n for n in numbers if math.sqrt(n) % 1 != 0]\n",
    "\n",
    "# Display the results\n",
    "print(f\"Total irrational square roots: {len(irrational_numbers)}\")\n",
    "print(\"Numbers with irrational square roots:\", irrational_numbers)\n"
   ]
  },
  {
   "cell_type": "code",
   "execution_count": null,
   "id": "6002b6da",
   "metadata": {},
   "outputs": [],
   "source": [
    "import numpy as np\n",
    "import matplotlib.pyplot as plt\n",
    "import math\n",
    "\n",
    "# Define range\n",
    "numbers = range(1, 101)\n",
    "\n",
    "# Extract numbers with irrational square roots\n",
    "irrational_numbers = [n for n in numbers if math.sqrt(n) % 1 != 0]\n",
    "irrational_roots = [math.sqrt(n) for n in irrational_numbers]\n",
    "\n",
    "# Create the figure\n",
    "plt.figure(figsize=(10, 2))\n",
    "\n",
    "# Plot irrational square roots on a number line\n",
    "plt.scatter(irrational_roots, np.zeros_like(irrational_roots), color='red', label='Irrational Square Roots')\n",
    "\n",
    "# Draw number line\n",
    "plt.axhline(0, color='black', linewidth=1)\n",
    "\n",
    "# Labels\n",
    "plt.xlabel(\"Square Roots\")\n",
    "plt.title(\"Irrational Square Roots on a Number Line\")\n",
    "plt.yticks([])  # Hide y-axis\n",
    "plt.legend()\n",
    "plt.grid(False)\n",
    "\n",
    "# Show plot\n",
    "plt.grid()\n",
    "plt.show()\n"
   ]
  },
  {
   "cell_type": "code",
   "execution_count": null,
   "id": "ca5f2987",
   "metadata": {},
   "outputs": [],
   "source": [
    "import matplotlib.pyplot as plt\n",
    "import math\n",
    "\n",
    "# Define range\n",
    "numbers = range(1, 101)\n",
    "\n",
    "# Extract numbers with irrational square roots\n",
    "irrational_numbers = [n for n in numbers if math.sqrt(n) % 1 != 0]\n",
    "irrational_roots = [math.sqrt(n) for n in irrational_numbers]\n",
    "\n",
    "# Create figure\n",
    "plt.figure(figsize=(10, 6))\n",
    "\n",
    "# Draw rectangles\n",
    "for i, num in enumerate(irrational_numbers):\n",
    "    plt.gca().add_patch(plt.Rectangle((i, 0), width=num, height=math.sqrt(num), color='red', alpha=0.5))\n",
    "\n",
    "# Labels and formatting\n",
    "plt.xlabel(\"Index of Number\")\n",
    "plt.ylabel(\"Square Root (Height of Rectangle)\")\n",
    "plt.title(\"Geometric Representation of Irrational Square Roots\")\n",
    "plt.xlim(0, len(irrational_numbers))\n",
    "plt.ylim(0, max(irrational_roots) + 1)\n",
    "plt.grid(True)\n",
    "\n",
    "# Show plot\n",
    "plt.show()\n"
   ]
  }
 ],
 "metadata": {
  "kernelspec": {
   "display_name": "base",
   "language": "python",
   "name": "python3"
  },
  "language_info": {
   "codemirror_mode": {
    "name": "ipython",
    "version": 3
   },
   "file_extension": ".py",
   "mimetype": "text/x-python",
   "name": "python",
   "nbconvert_exporter": "python",
   "pygments_lexer": "ipython3",
   "version": "3.12.7"
  }
 },
 "nbformat": 4,
 "nbformat_minor": 5
}
