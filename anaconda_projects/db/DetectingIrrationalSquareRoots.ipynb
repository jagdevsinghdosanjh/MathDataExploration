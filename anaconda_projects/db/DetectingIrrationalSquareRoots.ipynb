{
 "cells": [
  {
   "cell_type": "markdown",
   "id": "c7fa8fa9",
   "metadata": {},
   "source": [
    "## Detecting Irrational Square Roots in a range of rationals."
   ]
  },
  {
   "cell_type": "code",
   "execution_count": 1,
   "id": "927cda19",
   "metadata": {},
   "outputs": [
    {
     "name": "stdout",
     "output_type": "stream",
     "text": [
      "Irrational Square Roots: [2, 3, 5, 6, 7, 8, 10, 11, 12, 13, 14, 15, 17, 18, 19, 20, 21, 22, 23, 24, 26, 27, 28, 29, 30, 31, 32, 33, 34, 35, 37, 38, 39, 40, 41, 42, 43, 44, 45, 46, 47, 48, 50, 51, 52, 53, 54, 55, 56, 57, 58, 59, 60, 61, 62, 63, 65, 66, 67, 68, 69, 70, 71, 72, 73, 74, 75, 76, 77, 78, 79, 80, 82, 83, 84, 85, 86, 87, 88, 89, 90, 91, 92, 93, 94, 95, 96, 97, 98, 99]\n"
     ]
    }
   ],
   "source": [
    "import math\n",
    "\n",
    "def is_irrational_sqrt(n):\n",
    "    sqrt_n = math.sqrt(n)\n",
    "    return sqrt_n % 1 != 0  # True if decimal part exists (irrational)\n",
    "\n",
    "# Testing numbers from 1 to 100\n",
    "irrational_numbers = [n for n in range(1, 101) if is_irrational_sqrt(n)]\n",
    "print(\"Irrational Square Roots:\", irrational_numbers)\n"
   ]
  },
  {
   "cell_type": "markdown",
   "id": "7f2099ef",
   "metadata": {},
   "source": [
    "# Detecting the Irrational Numbers for Square Roots of Random Rational."
   ]
  },
  {
   "cell_type": "code",
   "execution_count": 2,
   "id": "9f0f73bc",
   "metadata": {},
   "outputs": [
    {
     "name": "stdout",
     "output_type": "stream",
     "text": [
      "Random Numbers: [482, 906, 405, 892, 933, 777, 674, 460, 183, 754, 620, 691, 161, 451, 951, 706, 855, 613, 896, 706]\n",
      "Numbers with Irrational Square Roots: [482, 906, 405, 892, 933, 777, 674, 460, 183, 754, 620, 691, 161, 451, 951, 706, 855, 613, 896, 706]\n"
     ]
    }
   ],
   "source": [
    "import random\n",
    "import math\n",
    "\n",
    "def is_irrational_sqrt(n):\n",
    "    sqrt_n = math.sqrt(n)\n",
    "    return sqrt_n % 1 != 0  # True if decimal part exists (irrational)\n",
    "\n",
    "# Generate random integers between 1 and 1000\n",
    "random_numbers = [random.randint(1, 1000) for _ in range(20)]  # Generate 20 random numbers\n",
    "irrational_numbers = [n for n in random_numbers if is_irrational_sqrt(n)]\n",
    "\n",
    "print(\"Random Numbers:\", random_numbers)\n",
    "print(\"Numbers with Irrational Square Roots:\", irrational_numbers)\n"
   ]
  }
 ],
 "metadata": {
  "kernelspec": {
   "display_name": "base",
   "language": "python",
   "name": "python3"
  },
  "language_info": {
   "codemirror_mode": {
    "name": "ipython",
    "version": 3
   },
   "file_extension": ".py",
   "mimetype": "text/x-python",
   "name": "python",
   "nbconvert_exporter": "python",
   "pygments_lexer": "ipython3",
   "version": "3.12.7"
  }
 },
 "nbformat": 4,
 "nbformat_minor": 5
}
