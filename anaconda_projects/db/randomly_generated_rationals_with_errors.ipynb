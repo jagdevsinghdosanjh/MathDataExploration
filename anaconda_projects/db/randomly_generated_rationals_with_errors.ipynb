{
 "cells": [
  {
   "cell_type": "code",
   "execution_count": 2,
   "id": "056a5497",
   "metadata": {},
   "outputs": [
    {
     "name": "stdout",
     "output_type": "stream",
     "text": [
      "Best random approximation for √2: 140/99 ≈ 1.4141414141414141, Error: 0.000072\n"
     ]
    }
   ],
   "source": [
    "import numpy as np\n",
    "import random\n",
    "\n",
    "def random_approximation(target, trials=100):\n",
    "    best_approx = None\n",
    "    smallest_error = float(\"inf\")\n",
    "    \n",
    "    for _ in range(trials):\n",
    "        denom = random.randint(1, 100)\n",
    "        num = round(target * denom)\n",
    "        approx = num / denom\n",
    "        error = abs(target - approx)\n",
    "\n",
    "        if error < smallest_error:\n",
    "            best_approx = (num, denom, approx, error)\n",
    "            smallest_error = error\n",
    "\n",
    "    return best_approx\n",
    "\n",
    "# Test random approximations for √2\n",
    "best_frac = random_approximation(np.sqrt(2))\n",
    "print(f\"Best random approximation for √2: {best_frac[0]}/{best_frac[1]} ≈ {best_frac[2]}, Error: {best_frac[3]:.6f}\")\n"
   ]
  }
 ],
 "metadata": {
  "kernelspec": {
   "display_name": "base",
   "language": "python",
   "name": "python3"
  },
  "language_info": {
   "codemirror_mode": {
    "name": "ipython",
    "version": 3
   },
   "file_extension": ".py",
   "mimetype": "text/x-python",
   "name": "python",
   "nbconvert_exporter": "python",
   "pygments_lexer": "ipython3",
   "version": "3.12.7"
  }
 },
 "nbformat": 4,
 "nbformat_minor": 5
}
